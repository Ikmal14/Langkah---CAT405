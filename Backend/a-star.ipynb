{
 "cells": [
  {
   "cell_type": "code",
   "execution_count": 45,
   "metadata": {},
   "outputs": [
    {
     "name": "stdout",
     "output_type": "stream",
     "text": [
      "Requirement already satisfied: networkx in c:\\python312\\lib\\site-packages (3.2.1)\n",
      "Note: you may need to restart the kernel to use updated packages.\n"
     ]
    }
   ],
   "source": [
    "%pip install networkx"
   ]
  },
  {
   "cell_type": "code",
   "execution_count": 46,
   "metadata": {},
   "outputs": [
    {
     "name": "stdout",
     "output_type": "stream",
     "text": [
      "Requirement already satisfied: psycopg2-binary in c:\\python312\\lib\\site-packages (2.9.9)\n",
      "Note: you may need to restart the kernel to use updated packages.\n"
     ]
    }
   ],
   "source": [
    "%pip install psycopg2-binary\n"
   ]
  },
  {
   "cell_type": "code",
   "execution_count": 47,
   "metadata": {},
   "outputs": [
    {
     "name": "stdout",
     "output_type": "stream",
     "text": [
      "Requirement already satisfied: matplotlib in c:\\python312\\lib\\site-packages (3.8.3)Note: you may need to restart the kernel to use updated packages.\n",
      "\n",
      "Requirement already satisfied: contourpy>=1.0.1 in c:\\python312\\lib\\site-packages (from matplotlib) (1.2.0)\n",
      "Requirement already satisfied: cycler>=0.10 in c:\\python312\\lib\\site-packages (from matplotlib) (0.12.1)\n",
      "Requirement already satisfied: fonttools>=4.22.0 in c:\\python312\\lib\\site-packages (from matplotlib) (4.50.0)\n",
      "Requirement already satisfied: kiwisolver>=1.3.1 in c:\\python312\\lib\\site-packages (from matplotlib) (1.4.5)\n",
      "Requirement already satisfied: numpy<2,>=1.21 in c:\\python312\\lib\\site-packages (from matplotlib) (1.26.4)\n",
      "Requirement already satisfied: packaging>=20.0 in c:\\users\\user\\appdata\\roaming\\python\\python312\\site-packages (from matplotlib) (24.0)\n",
      "Requirement already satisfied: pillow>=8 in c:\\python312\\lib\\site-packages (from matplotlib) (10.2.0)\n",
      "Requirement already satisfied: pyparsing>=2.3.1 in c:\\python312\\lib\\site-packages (from matplotlib) (3.1.2)\n",
      "Requirement already satisfied: python-dateutil>=2.7 in c:\\users\\user\\appdata\\roaming\\python\\python312\\site-packages (from matplotlib) (2.9.0.post0)\n",
      "Requirement already satisfied: six>=1.5 in c:\\users\\user\\appdata\\roaming\\python\\python312\\site-packages (from python-dateutil>=2.7->matplotlib) (1.16.0)\n"
     ]
    }
   ],
   "source": [
    "%pip install matplotlib"
   ]
  },
  {
   "cell_type": "code",
   "execution_count": 48,
   "metadata": {},
   "outputs": [
    {
     "name": "stdout",
     "output_type": "stream",
     "text": [
      "Requirement already satisfied: pandas in c:\\python312\\lib\\site-packages (2.2.1)\n",
      "Requirement already satisfied: numpy<2,>=1.26.0 in c:\\python312\\lib\\site-packages (from pandas) (1.26.4)\n",
      "Requirement already satisfied: python-dateutil>=2.8.2 in c:\\users\\user\\appdata\\roaming\\python\\python312\\site-packages (from pandas) (2.9.0.post0)\n",
      "Requirement already satisfied: pytz>=2020.1 in c:\\python312\\lib\\site-packages (from pandas) (2024.1)\n",
      "Requirement already satisfied: tzdata>=2022.7 in c:\\python312\\lib\\site-packages (from pandas) (2024.1)\n",
      "Requirement already satisfied: six>=1.5 in c:\\users\\user\\appdata\\roaming\\python\\python312\\site-packages (from python-dateutil>=2.8.2->pandas) (1.16.0)\n",
      "Note: you may need to restart the kernel to use updated packages.\n"
     ]
    }
   ],
   "source": [
    "%pip install pandas"
   ]
  },
  {
   "cell_type": "code",
   "execution_count": 49,
   "metadata": {},
   "outputs": [],
   "source": [
    "import networkx as nx"
   ]
  },
  {
   "cell_type": "code",
   "execution_count": 50,
   "metadata": {},
   "outputs": [],
   "source": [
    "import matplotlib.pyplot as plt"
   ]
  },
  {
   "cell_type": "code",
   "execution_count": 51,
   "metadata": {},
   "outputs": [],
   "source": [
    "import psycopg2"
   ]
  },
  {
   "cell_type": "code",
   "execution_count": 52,
   "metadata": {},
   "outputs": [],
   "source": [
    "import pandas as pd"
   ]
  },
  {
   "cell_type": "code",
   "execution_count": 53,
   "metadata": {},
   "outputs": [],
   "source": [
    "DB_NAME = 'mapData'\n",
    "DB_USER = 'postgres'\n",
    "DB_PASSWORD = '1234'\n",
    "DB_HOST = 'localhost'"
   ]
  },
  {
   "cell_type": "code",
   "execution_count": 76,
   "metadata": {},
   "outputs": [],
   "source": [
    "# Establish a connection to the database\n",
    "conn = psycopg2.connect(dbname=DB_NAME, user=DB_USER, password=DB_PASSWORD, host=DB_HOST)"
   ]
  },
  {
   "cell_type": "code",
   "execution_count": 77,
   "metadata": {},
   "outputs": [],
   "source": [
    "# Create a cursor object to execute SQL queries\n",
    "cur = conn.cursor()"
   ]
  },
  {
   "cell_type": "code",
   "execution_count": 78,
   "metadata": {},
   "outputs": [],
   "source": [
    "# Fetch data from table\n",
    "cur.execute('SELECT * FROM edges_lrt_mrt')\n",
    "edges = cur.fetchall()\n",
    "\n",
    "cur.execute('SELECT id, latitude, longitude FROM merged_mrt_lrt')\n",
    "positions = cur.fetchall()"
   ]
  },
  {
   "cell_type": "code",
   "execution_count": 57,
   "metadata": {},
   "outputs": [
    {
     "name": "stdout",
     "output_type": "stream",
     "text": [
      "[(44, 3.01753842, 101.6129545), (136, 3.142421601, 101.7202117), (33, 3.076154052, 101.7113372), (34, 3.064227861, 101.7080286), (35, 3.059785605, 101.6920342), (36, 3.061413714, 101.6871381), (37, 3.062272, 101.670654), (38, 3.0620987, 101.6627423), (39, 3.054841361, 101.656468), (40, 3.050638642, 101.6442686), (41, 3.048311297, 101.6209228), (42, 3.033643559, 101.6161685), (43, 3.022975961, 101.6133461), (45, 3.007942706, 101.6056225), (46, 3.000027223, 101.5966946), (47, 2.996097274, 101.575498), (48, 3.231399278, 101.7242403), (49, 3.21980733, 101.7218576), (54, 3.165292218, 101.7318589), (55, 3.164560931, 101.7244835), (56, 3.160024057, 101.7190732), (57, 3.159173394, 101.714153), (58, 3.161631031, 101.7066476), (59, 3.15648462, 101.7022776), (61, 3.142492499, 101.6953129), (63, 3.127677475, 101.6789561), (64, 3.118943189, 101.6732605), (65, 3.115718903, 101.6686076), (51, 3.199237959, 101.73751), (50, 3.205911293, 101.7318969), (20, 3.178490429, 101.6956353), (21, 3.173485586, 101.6952859), (3, 3.173485586, 101.6952859), (4, 3.166779768, 101.6936758), (5, 3.161459606, 101.6940993), (8, 3.144296389, 101.7021215), (9, 3.139985154, 101.7062849), (10, 3.13508354, 101.7120136), (11, 3.128044388, 101.7154607), (12, 3.121295818, 101.7179365), (13, 3.123672062, 101.727173), (14, 3.130306333, 101.7389645), (15, 3.134952825, 101.7468595), (16, 3.138471235, 101.7530051), (19, 3.185323465, 101.6962334), (22, 3.166779768, 101.6936758), (23, 3.161459606, 101.6940993), (24, 3.155716116, 101.6943886), (26, 3.144296389, 101.7021215), (27, 3.139985154, 101.7062849), (28, 3.13508354, 101.7120136), (29, 3.128044388, 101.7154607), (30, 3.112796257, 101.7142718), (31, 3.102354912, 101.7063461), (32, 3.089867721, 101.7125143), (53, 3.167516755, 101.7353661), (52, 3.176006516, 101.7358911), (62, 3.134378899, 101.6861154), (137, 3.133130664, 101.7228111), (139, 3.112613948, 101.7293224), (138, 3.124495533, 101.7273941), (140, 3.104646158, 101.7319342), (142, 3.0791734, 101.7451555), (143, 3.071640743, 101.7635552), (144, 3.06234847, 101.7728406), (145, 3.048973007, 101.7747332), (146, 3.041543704, 101.773321), (148, 3.001550897, 101.7838197), (149, 2.994061684, 101.7861121), (150, 2.983162657, 101.79021), (151, 3.17639336, 101.5723043), (152, 3.13443545691294, 101.68619768995796), (153, 3.131551281758504, 101.69089566010207), (154, 3.139117751606663, 101.6991857810526), (155, 3.139969225969594, 101.70626036756114), (1, 3.185323465, 101.6962334), (2, 3.178490429, 101.6956353), (156, 3.1429156984236335, 101.70941780988885), (158, 3.1508458715909256, 101.71039983872508), (159, 3.15637068523172, 101.70479926756128), (161, 3.1674758337130706, 101.69840045406998), (7, 3.149542517, 101.6964434), (25, 3.149542517, 101.6964434), (60, 3.149343883, 101.6963848), (141, 3.091950862, 101.7405542), (160, 3.1594892596872737, 101.69885853872512), (147, 3.026846454, 101.7708932), (157, 3.146102841825258, 101.71148370314317), (162, 3.1732616273095275, 101.69602169639761), (73, 3.108894757, 101.5863237), (101, 3.174048578, 101.7022895), (6, 3.155716116, 101.6943886), (17, 3.140591387, 101.7565774), (18, 3.150341765, 101.7600464), (66, 3.114784829, 101.6616659), (67, 3.104263518, 101.6451749), (68, 3.104562305, 101.6377015), (69, 3.104857453, 101.6231223), (70, 3.110906191, 101.6126625), (71, 3.112575913, 101.6044954), (72, 3.112352669, 101.5912451), (74, 3.095794254, 101.590072), (75, 3.084771629, 101.5875284), (76, 3.076138057, 101.5860206), (77, 3.067380199, 101.5859504), (78, 3.055147488, 101.5922061), (79, 3.048030875, 101.5901692), (80, 3.03530306, 101.5883212), (81, 3.029867971, 101.5816843), (82, 3.023283221, 101.5720664), (83, 3.009587068, 101.5722756), (84, 2.996006207, 101.5755355), (85, 3.17639336, 101.5723043), (87, 3.206246249, 101.5808435), (90, 3.198566723, 101.6211751), (86, 3.197292595, 101.5784496), (89, 3.198200523, 101.608273), (88, 3.199905486, 101.5926107), (100, 3.173625065, 101.6953514), (102, 3.167784318, 101.7101765), (104, 3.157322901, 101.7182878), (105, 3.151427471, 101.718139), (106, 3.142839396, 101.7202224), (103, 3.162262369, 101.7185032), (107, 3.128361665, 101.7165622), (110, 3.089530349, 101.6940599), (111, 3.077685957, 101.6997124), (113, 3.042420163, 101.7050696), (114, 3.028764106, 101.7074749), (115, 3.021579294, 101.7089581), (116, 3.008831382, 101.7059092), (112, 3.063635492, 101.708428), (117, 2.989404614, 101.6724785), (118, 2.983384943, 101.6610073), (120, 2.950354835, 101.6571883), (123, 3.170142242, 101.5648017), (124, 3.150300321, 101.579245), (126, 3.155391671, 101.608708), (127, 3.146990498, 101.6187081), (128, 3.136487748, 101.6312683), (130, 3.14349338, 101.6623025), (131, 3.151238083, 101.6652915), (133, 3.142899398, 101.6953906), (134, 3.142646347, 101.702105), (119, 2.965806416, 101.6548932), (121, 2.939174559, 101.6655238), (122, 2.931342324, 101.6715414), (125, 3.149681819, 101.5939151), (129, 3.129379936, 101.6429246), (132, 3.137614911, 101.6876849), (135, 3.146136634, 101.7104535), (93, 3.211662176, 101.6482028), (91, 3.209790308, 101.6306039), (92, 3.214722147, 101.6400458), (94, 3.20965418, 101.6558188), (95, 3.207135974, 101.6657389), (97, 3.196470344, 101.6797363), (98, 3.189532675, 101.6811105), (99, 3.179610803, 101.6847381), (96, 3.205982257, 101.6752513)]\n"
     ]
    }
   ],
   "source": [
    "# print the position data\n",
    "print(positions)"
   ]
  },
  {
   "cell_type": "code",
   "execution_count": 79,
   "metadata": {},
   "outputs": [],
   "source": [
    "# Convert the fetched data into a pandas DataFrame for easier manipulation\n",
    "columns = ['id','source_station_id', 'destination_station_id', 'distance']\n",
    "df = pd.DataFrame(edges, columns=columns)"
   ]
  },
  {
   "cell_type": "code",
   "execution_count": 59,
   "metadata": {},
   "outputs": [],
   "source": [
    "cur.close()\n",
    "conn.close()"
   ]
  },
  {
   "cell_type": "code",
   "execution_count": 207,
   "metadata": {},
   "outputs": [],
   "source": [
    "import sqlite3\n",
    "import time\n",
    "import heapq\n",
    "import math\n",
    "import networkx as nx"
   ]
  },
  {
   "cell_type": "code",
   "execution_count": 209,
   "metadata": {},
   "outputs": [],
   "source": [
    "def fetch_all_coordinates_from_db(db_path):\n",
    "    \"\"\"\n",
    "    Fetch all coordinates (latitude and longitude) for the nodes from the database.\n",
    "\n",
    "    Parameters:\n",
    "    db_path (str): Path to the SQLite database file.\n",
    "\n",
    "    Returns:\n",
    "    list: A list of tuples containing (node_id, latitude, longitude).\n",
    "    \"\"\"\n",
    "    conn = sqlite3.connect(db_path)\n",
    "    cursor = conn.cursor()\n",
    "    query = 'SELECT id, latitude, longitude FROM merged_mrt_lrt'\n",
    "    cursor.execute(query)\n",
    "    positions = cursor.fetchall()\n",
    "    conn.close()\n",
    "    return positions"
   ]
  },
  {
   "cell_type": "code",
   "execution_count": 86,
   "metadata": {},
   "outputs": [
    {
     "name": "stdout",
     "output_type": "stream",
     "text": [
      "[(309, 1, 2, 3), (310, 2, 3, 2), (311, 3, 4, 3), (312, 4, 5, 3), (313, 5, 6, 3), (314, 6, 7, 3), (315, 7, 8, 3), (316, 8, 9, 3), (317, 9, 10, 3), (318, 10, 11, 3), (319, 11, 12, 3), (320, 12, 13, 3), (321, 13, 14, 4), (322, 14, 15, 3), (323, 15, 16, 3), (324, 16, 17, 3), (325, 17, 18, 5), (326, 19, 20, 3), (327, 20, 21, 2), (328, 21, 22, 3), (329, 22, 23, 3), (330, 23, 24, 3), (331, 24, 25, 3), (332, 25, 26, 3), (333, 26, 27, 3), (334, 27, 28, 3), (335, 28, 29, 3), (336, 29, 30, 4), (337, 30, 31, 4), (338, 31, 32, 4), (339, 32, 33, 4), (340, 33, 34, 4), (341, 34, 35, 5), (342, 35, 36, 3), (343, 36, 37, 4), (344, 37, 38, 3), (345, 38, 39, 4), (346, 39, 40, 4), (347, 40, 41, 5), (348, 41, 42, 4), (349, 42, 43, 4), (350, 43, 44, 3), (351, 44, 45, 4), (352, 45, 46, 4), (353, 46, 47, 6), (354, 48, 49, 4), (355, 49, 50, 4), (356, 50, 51, 3), (357, 51, 52, 5), (358, 52, 53, 3), (359, 53, 54, 2), (360, 54, 55, 3), (361, 55, 56, 3), (362, 56, 57, 3), (363, 57, 58, 3), (364, 58, 59, 3), (365, 59, 60, 3), (366, 60, 61, 3), (367, 61, 62, 4), (368, 62, 63, 3), (369, 63, 64, 3), (370, 64, 65, 3), (371, 65, 66, 3), (372, 66, 67, 4), (373, 67, 68, 4), (374, 68, 69, 3), (375, 69, 70, 3), (376, 70, 71, 3), (377, 71, 72, 4), (378, 72, 73, 3), (379, 73, 74, 4), (380, 74, 75, 4), (381, 75, 76, 3), (382, 76, 77, 3), (383, 77, 78, 5), (384, 78, 79, 3), (385, 79, 80, 3), (386, 80, 81, 3), (387, 81, 82, 4), (388, 82, 83, 3), (389, 83, 84, 4), (390, 85, 86, 4), (391, 86, 87, 3), (392, 87, 88, 3), (393, 88, 89, 4), (394, 89, 90, 3), (395, 90, 91, 3), (396, 91, 92, 4), (397, 92, 93, 4), (398, 93, 94, 3), (399, 94, 95, 4), (400, 95, 96, 4), (401, 96, 97, 3), (402, 97, 98, 2), (403, 98, 99, 4), (404, 99, 100, 4), (405, 100, 101, 3), (406, 101, 102, 2), (407, 102, 103, 4), (408, 103, 104, 3), (409, 104, 105, 3), (410, 105, 106, 4), (411, 106, 107, 5), (412, 107, 110, 6), (413, 110, 111, 3), (414, 111, 112, 4), (415, 112, 113, 6), (416, 113, 114, 3), (417, 114, 115, 3), (418, 115, 116, 1), (419, 116, 117, 3), (420, 117, 118, 3), (421, 118, 119, 2), (422, 119, 120, 3), (423, 120, 121, 4), (424, 121, 122, 3), (425, 151, 123, 3), (426, 123, 124, 5), (427, 124, 125, 3), (428, 125, 126, 3), (429, 126, 127, 3), (430, 127, 128, 4), (431, 128, 129, 4), (432, 129, 130, 4), (433, 130, 131, 3), (434, 131, 132, 6), (435, 132, 133, 3), (436, 133, 134, 3), (437, 134, 135, 4), (438, 135, 136, 4), (439, 136, 137, 4), (440, 137, 138, 2), (441, 138, 139, 5), (442, 139, 140, 3), (443, 140, 141, 3), (444, 141, 142, 4), (445, 142, 143, 3), (446, 143, 144, 4), (447, 144, 145, 3), (448, 145, 146, 3), (449, 146, 147, 4), (450, 147, 148, 5), (451, 148, 149, 2), (452, 149, 150, 4), (453, 152, 153, 4), (454, 153, 154, 4), (455, 154, 155, 3), (456, 155, 156, 3), (457, 156, 157, 3), (458, 157, 158, 3), (459, 158, 159, 3), (460, 159, 160, 3), (461, 160, 161, 4), (462, 161, 162, 4), (463, 151, 85, 0), (464, 3, 21, 0), (465, 3, 100, 0), (466, 3, 162, 0), (467, 21, 100, 0), (468, 21, 162, 0), (469, 100, 162, 0), (470, 103, 56, 3), (471, 106, 136, 0), (472, 11, 29, 0), (473, 11, 107, 2), (474, 29, 107, 2), (475, 34, 112, 3), (476, 132, 62, 1), (477, 132, 152, 1), (478, 61, 133, 1), (479, 134, 8, 2), (480, 134, 26, 2), (481, 135, 157, 2), (482, 138, 13, 2), (483, 59, 159, 4), (484, 60, 25, 2), (485, 60, 7, 2), (486, 25, 7, 1), (487, 62, 152, 2), (488, 84, 47, 1), (489, 5, 160, 10), (490, 9, 155, 2), (491, 155, 27, 2), (492, 9, 27, 0)]\n"
     ]
    }
   ],
   "source": [
    "print(edges)"
   ]
  },
  {
   "cell_type": "code",
   "execution_count": 210,
   "metadata": {},
   "outputs": [],
   "source": [
    "# Create a graph and add nodes with coordinates\n",
    "G = nx.Graph()\n",
    "for node_id, lat, long in positions:\n",
    "    G.add_node(node_id, pos=(lat, long))\n",
    "\n",
    "# Add edges to the graph\n",
    "for edge_id, source, destination, distance in edges:\n",
    "    G.add_edge(source, destination, weight=distance)\n"
   ]
  },
  {
   "cell_type": "code",
   "execution_count": 211,
   "metadata": {},
   "outputs": [],
   "source": [
    "def heuristic_distance(station1, station2):\n",
    "    \"\"\"\n",
    "    Calculate the Euclidean distance between two stations.\n",
    "\n",
    "    Parameters:\n",
    "    station1 (tuple): The (latitude, longitude) coordinates of the first station.\n",
    "    station2 (tuple): The (latitude, longitude) coordinates of the second station.\n",
    "\n",
    "    Returns:\n",
    "    float: The Euclidean distance between the two stations.\n",
    "    \"\"\"\n",
    "    x1, y1 = station1\n",
    "    x2, y2 = station2\n",
    "    distance = math.sqrt((x2 - x1)**2 + (y2 - y1)**2)\n",
    "    return distance"
   ]
  },
  {
   "cell_type": "code",
   "execution_count": 212,
   "metadata": {},
   "outputs": [],
   "source": [
    "import psutil\n",
    "import os\n",
    "\n",
    "def get_memory_usage():\n",
    "    \"\"\"\n",
    "    Get the current memory usage of the process.\n",
    "\n",
    "    Returns:\n",
    "    int: Memory usage in bytes.\n",
    "    \"\"\"\n",
    "    process = psutil.Process(os.getpid())\n",
    "    return process.memory_info().rss"
   ]
  },
  {
   "cell_type": "code",
   "execution_count": 247,
   "metadata": {},
   "outputs": [],
   "source": [
    "def astar_shortest_path(graph, start_station_id, end_station_id):\n",
    "    \"\"\"\n",
    "    Calculate the shortest path between two stations using the A* algorithm.\n",
    "\n",
    "    Parameters:\n",
    "    graph (networkx.Graph): The graph representing the station network.\n",
    "    start_station_id (int): The ID of the start station.\n",
    "    end_station_id (int): The ID of the end station.\n",
    "\n",
    "    Returns:\n",
    "    tuple: The shortest path from the start station to the end station, runtime in milliseconds, number of steps taken, and memory usage in MB.\n",
    "    \"\"\"\n",
    "    # Record the start time\n",
    "    start_time = time.time()\n",
    "\n",
    "    # Get initial memory usage\n",
    "    initial_memory = get_memory_usage()\n",
    "\n",
    "    # Define the priority queue for the open set\n",
    "    open_set = [(0, start_station_id)]\n",
    "    # Define the set of visited stations\n",
    "    visited = set()\n",
    "    # Define the dictionary to store the actual distance from the start station to each station\n",
    "    g_score = {start_station_id: 0}\n",
    "    # Define the dictionary to store the estimated total distance from the start station to each station\n",
    "    f_score = {start_station_id: heuristic_distance(graph.nodes[start_station_id]['pos'], graph.nodes[end_station_id]['pos'])}\n",
    "    # Define the dictionary to store the previous station in the shortest path\n",
    "    came_from = {}\n",
    "\n",
    "    # Initialize the number of steps taken\n",
    "    steps = 0\n",
    "\n",
    "    while open_set:\n",
    "        # Increment the number of steps\n",
    "        steps += 1\n",
    "        \n",
    "        # Get the station with the lowest f_score\n",
    "        _, current_station = heapq.heappop(open_set)\n",
    "        \n",
    "        if current_station == end_station_id:\n",
    "            # Record the end time\n",
    "            end_time = time.time()\n",
    "            # Calculate the runtime in milliseconds\n",
    "            runtime = (end_time - start_time) * 1000\n",
    "\n",
    "            # Get final memory usage\n",
    "            final_memory = get_memory_usage()\n",
    "            memory_usage = (final_memory - initial_memory) / 1024 / 1024  # Convert to MB\n",
    "            \n",
    "            # Reconstruct the path from the end station to the start station\n",
    "            path = [current_station]\n",
    "            while current_station != start_station_id:\n",
    "                current_station = came_from[current_station]\n",
    "                path.append(current_station)\n",
    "            path.reverse()\n",
    "            return path, runtime, steps, memory_usage\n",
    "        \n",
    "        # Add the current station to the visited set\n",
    "        visited.add(current_station)\n",
    "        \n",
    "        # Explore the neighbors of the current station\n",
    "        for neighbor in graph.neighbors(current_station):\n",
    "            if neighbor in visited:\n",
    "                continue\n",
    "            \n",
    "            # Calculate the tentative g_score for the neighbor\n",
    "            tentative_g_score = g_score[current_station] + graph[current_station][neighbor]['weight']\n",
    "            \n",
    "            if neighbor not in g_score or tentative_g_score < g_score[neighbor]:\n",
    "                # Update the g_score and f_score for the neighbor\n",
    "                g_score[neighbor] = tentative_g_score\n",
    "                f_score[neighbor] = g_score[neighbor] + heuristic_distance(graph.nodes[neighbor]['pos'], graph.nodes[end_station_id]['pos'])\n",
    "                # Update the came_from dictionary\n",
    "                came_from[neighbor] = current_station\n",
    "                # Add the neighbor to the open set\n",
    "                heapq.heappush(open_set, (f_score[neighbor], neighbor))\n",
    "    \n",
    "    # If no path is found, return None\n",
    "    return None, None, None, None"
   ]
  },
  {
   "cell_type": "code",
   "execution_count": 248,
   "metadata": {},
   "outputs": [
    {
     "name": "stdout",
     "output_type": "stream",
     "text": [
      "Shortest path: [150, 149, 148, 147, 146, 145, 144, 143, 142, 141, 140, 139, 138, 137, 136, 106, 105, 104, 103, 56, 55, 54, 53, 52, 51, 50, 49, 48]\n",
      "Number of stations in path: 28\n",
      "Runtime: 1.5730857849121094 milliseconds\n",
      "Number of steps: 123\n",
      "Memory usage: 0.0 MB\n"
     ]
    }
   ],
   "source": [
    "# Define start and end station IDs\n",
    "start_station_id = 150\n",
    "end_station_id = 48\n",
    "\n",
    "# Calculate the shortest path using A* algorithm\n",
    "path, runtime, steps, memory_usage = astar_shortest_path(G, start_station_id, end_station_id)\n",
    "\n",
    "# Count the number of stations in the path\n",
    "count = len(path)\n",
    "\n",
    "# Print the results\n",
    "print(\"Shortest path:\", path)\n",
    "print(\"Number of stations in path:\", count)\n",
    "print(\"Runtime:\", runtime, \"milliseconds\")\n",
    "print(\"Number of steps:\", steps)\n",
    "print(\"Memory usage:\", memory_usage, \"MB\")"
   ]
  },
  {
   "cell_type": "code",
   "execution_count": 232,
   "metadata": {},
   "outputs": [],
   "source": [
    "def dijkstra_shortest_path(graph, start_station_id, end_station_id):\n",
    "    \"\"\"\n",
    "    Calculate the shortest path between two stations using Dijkstra's algorithm.\n",
    "\n",
    "    Parameters:\n",
    "    graph (networkx.Graph): The graph representing the station network.\n",
    "    start_station_id (int): The ID of the start station.\n",
    "    end_station_id (int): The ID of the end station.\n",
    "\n",
    "    Returns:\n",
    "    tuple: The shortest path from the start station to the end station, runtime in milliseconds, number of steps taken, and memory usage in MB.\n",
    "    \"\"\"\n",
    "    # Record the start time\n",
    "    start_time = time.time()\n",
    "\n",
    "    # Get initial memory usage\n",
    "    initial_memory = get_memory_usage()\n",
    "\n",
    "    # Define the priority queue for the open set\n",
    "    open_set = [(0, start_station_id)]\n",
    "    # Define the dictionary to store the actual distance from the start station to each station\n",
    "    distances = {start_station_id: 0}\n",
    "    # Define the dictionary to store the previous station in the shortest path\n",
    "    came_from = {}\n",
    "\n",
    "    # Initialize the number of steps taken\n",
    "    steps = 0\n",
    "\n",
    "    while open_set:\n",
    "        # Increment the number of steps\n",
    "        steps += 1\n",
    "        \n",
    "        # Get the station with the smallest distance\n",
    "        current_distance, current_station = heapq.heappop(open_set)\n",
    "        \n",
    "        if current_station == end_station_id:\n",
    "            # Record the end time\n",
    "            end_time = time.time()\n",
    "            # Calculate the runtime in milliseconds\n",
    "            runtime = (end_time - start_time) * 1000\n",
    "\n",
    "            # Get final memory usage\n",
    "            final_memory = get_memory_usage()\n",
    "            memory_usage = (final_memory - initial_memory) / 1024 / 1024  # Convert to MB\n",
    "            \n",
    "            # Reconstruct the path from the end station to the start station\n",
    "            path = [current_station]\n",
    "            while current_station != start_station_id:\n",
    "                current_station = came_from[current_station]\n",
    "                path.append(current_station)\n",
    "            path.reverse()\n",
    "            return path, runtime, steps, memory_usage\n",
    "        \n",
    "        # Explore the neighbors of the current station\n",
    "        for neighbor in graph.neighbors(current_station):\n",
    "            distance = current_distance + graph[current_station][neighbor]['weight']\n",
    "            \n",
    "            if neighbor not in distances or distance < distances[neighbor]:\n",
    "                # Update the distance for the neighbor\n",
    "                distances[neighbor] = distance\n",
    "                # Update the came_from dictionary\n",
    "                came_from[neighbor] = current_station\n",
    "                # Add the neighbor to the open set\n",
    "                heapq.heappush(open_set, (distance, neighbor))\n",
    "    \n",
    "    # If no path is found, return None\n",
    "    return None, None, None, None"
   ]
  },
  {
   "cell_type": "code",
   "execution_count": 233,
   "metadata": {},
   "outputs": [
    {
     "name": "stdout",
     "output_type": "stream",
     "text": [
      "Shortest path: [150, 149, 148, 147, 146, 145, 144, 143, 142, 141, 140, 139, 138, 137, 136, 106, 105, 104, 103, 56, 55, 54, 53, 52, 51, 50, 49, 48]\n",
      "Number of stations in path: 28\n",
      "Runtime: 0.06270408630371094 milliseconds\n",
      "Number of steps: 125\n",
      "Memory usage: 0.0 MB\n"
     ]
    }
   ],
   "source": [
    "# Define start and end station IDs\n",
    "start_station_id = 150\n",
    "end_station_id = 48\n",
    "\n",
    "# Calculate the shortest path using Dijkstra's algorithm\n",
    "path, runtime, steps, memory_usage = dijkstra_shortest_path(G, start_station_id, end_station_id)\n",
    "\n",
    "# Count number of station in path array\n",
    "count = len(path)\n",
    "\n",
    "# Print the results\n",
    "print(\"Shortest path:\", path)\n",
    "print(\"Number of stations in path:\", count)\n",
    "print(\"Runtime:\", runtime, \"milliseconds\")\n",
    "print(\"Number of steps:\", steps)\n",
    "print(\"Memory usage:\", memory_usage, \"MB\")"
   ]
  },
  {
   "cell_type": "code",
   "execution_count": 234,
   "metadata": {},
   "outputs": [],
   "source": [
    "import random\n",
    "\n",
    "def ant_colony_optimization(graph, start_station_id, end_station_id, num_ants=10, num_iterations=100, alpha=1.0, beta=2.0, evaporation_rate=0.5, pheromone_deposit=1.0):\n",
    "    \"\"\"\n",
    "    Calculate the shortest path between two stations using Ant Colony Optimization (ACO).\n",
    "\n",
    "    Parameters:\n",
    "    graph (networkx.Graph): The graph representing the station network.\n",
    "    start_station_id (int): The ID of the start station.\n",
    "    end_station_id (int): The ID of the end station.\n",
    "    num_ants (int): Number of ants to use in the algorithm.\n",
    "    num_iterations (int): Number of iterations to run the algorithm.\n",
    "    alpha (float): Parameter to control the influence of pheromone.\n",
    "    beta (float): Parameter to control the influence of distance.\n",
    "    evaporation_rate (float): Rate at which the pheromone evaporates.\n",
    "    pheromone_deposit (float): Amount of pheromone deposited by each ant.\n",
    "\n",
    "    Returns:\n",
    "    tuple: The shortest path from the start station to the end station, runtime in milliseconds, number of steps taken, and memory usage in MB.\n",
    "    \"\"\"\n",
    "    # Record the start time\n",
    "    start_time = time.time()\n",
    "\n",
    "    # Get initial memory usage\n",
    "    initial_memory = get_memory_usage()\n",
    "\n",
    "    # Initialize pheromone levels on each edge\n",
    "    pheromone = {}\n",
    "    for edge in graph.edges:\n",
    "        pheromone[edge] = 1.0\n",
    "        pheromone[(edge[1], edge[0])] = 1.0  # Ensure bidirectional pheromone initialization\n",
    "\n",
    "    def choose_next_station(current_station, visited):\n",
    "        probabilities = []\n",
    "        neighbors = list(graph.neighbors(current_station))\n",
    "        for neighbor in neighbors:\n",
    "            if neighbor not in visited:\n",
    "                edge = (current_station, neighbor)\n",
    "                tau = pheromone[edge] ** alpha\n",
    "                weight = graph[current_station][neighbor]['weight']\n",
    "                if weight > 0:  # Check to avoid division by zero\n",
    "                    eta = (1.0 / weight) ** beta\n",
    "                    probabilities.append((neighbor, tau * eta))\n",
    "        if not probabilities:\n",
    "            return None\n",
    "        total = sum(prob for _, prob in probabilities)\n",
    "        r = random.uniform(0, total)\n",
    "        cumulative = 0.0\n",
    "        for neighbor, prob in probabilities:\n",
    "            cumulative += prob\n",
    "            if cumulative >= r:\n",
    "                return neighbor\n",
    "        return None\n",
    "\n",
    "    def update_pheromone(paths, best_path):\n",
    "        # Evaporate pheromone\n",
    "        for edge in pheromone:\n",
    "            pheromone[edge] *= (1.0 - evaporation_rate)\n",
    "        # Deposit new pheromone\n",
    "        for path in paths:\n",
    "            for i in range(len(path) - 1):\n",
    "                edge = (path[i], path[i + 1])\n",
    "                pheromone[edge] += pheromone_deposit / graph[path[i]][path[i + 1]]['weight']\n",
    "                pheromone[(edge[1], edge[0])] += pheromone_deposit / graph[path[i]][path[i + 1]]['weight']  # Bidirectional update\n",
    "        # Deposit additional pheromone for the best path\n",
    "        for i in range(len(best_path) - 1):\n",
    "            edge = (best_path[i], best_path[i + 1])\n",
    "            pheromone[edge] += pheromone_deposit / graph[best_path[i]][best_path[i + 1]]['weight']\n",
    "            pheromone[(edge[1], edge[0])] += pheromone_deposit / graph[best_path[i]][best_path[i + 1]]['weight']  # Bidirectional update\n",
    "\n",
    "    best_path = None\n",
    "    best_path_length = float('inf')\n",
    "\n",
    "    for _ in range(num_iterations):\n",
    "        paths = []\n",
    "        for _ in range(num_ants):\n",
    "            current_station = start_station_id\n",
    "            path = [current_station]\n",
    "            visited = set(path)\n",
    "            while current_station != end_station_id:\n",
    "                next_station = choose_next_station(current_station, visited)\n",
    "                if next_station is None:\n",
    "                    break\n",
    "                path.append(next_station)\n",
    "                visited.add(next_station)\n",
    "                current_station = next_station\n",
    "            if path[-1] == end_station_id:\n",
    "                paths.append(path)\n",
    "                path_length = sum(graph[path[i]][path[i + 1]]['weight'] for i in range(len(path) - 1))\n",
    "                if path_length < best_path_length:\n",
    "                    best_path = path\n",
    "                    best_path_length = path_length\n",
    "        update_pheromone(paths, best_path)\n",
    "\n",
    "    # Record the end time\n",
    "    end_time = time.time()\n",
    "    # Calculate the runtime in milliseconds\n",
    "    runtime = (end_time - start_time) * 1000\n",
    "    # Get final memory usage\n",
    "    final_memory = get_memory_usage()\n",
    "    memory_usage = (final_memory - initial_memory) / 1024 / 1024  # Convert to MB\n",
    "    # Number of steps is the number of iterations times the number of ants\n",
    "    steps = num_iterations * num_ants\n",
    "\n",
    "    return best_path, runtime, steps, memory_usage"
   ]
  },
  {
   "cell_type": "code",
   "execution_count": 237,
   "metadata": {},
   "outputs": [
    {
     "name": "stdout",
     "output_type": "stream",
     "text": [
      "Shortest path: [150, 149, 148, 147, 146, 145, 144, 143, 142, 141, 140, 139, 138, 137, 136, 135, 157, 158, 159, 59, 58, 57, 56, 55, 54, 53, 52, 51, 50, 49, 48]\n",
      "Number of stations in path: 31\n",
      "Runtime: 192.9161548614502 milliseconds\n",
      "Number of steps: 1000\n",
      "Memory usage: 0.0 MB\n"
     ]
    }
   ],
   "source": [
    "# Define start and end station IDs\n",
    "start_station_id = 150\n",
    "end_station_id = 48\n",
    "\n",
    "# Calculate the shortest path using Ant Colony Optimization (ACO)\n",
    "path, runtime, steps, memory_usage = ant_colony_optimization(G, start_station_id, end_station_id)\n",
    "\n",
    "# Count number of station in path array\n",
    "count = len(path)\n",
    "\n",
    "# Print the results\n",
    "print(\"Shortest path:\", path)\n",
    "print(\"Number of stations in path:\", count)\n",
    "print(\"Runtime:\", runtime, \"milliseconds\")\n",
    "print(\"Number of steps:\", steps)\n",
    "print(\"Memory usage:\", memory_usage, \"MB\")"
   ]
  }
 ],
 "metadata": {
  "kernelspec": {
   "display_name": "Python 3",
   "language": "python",
   "name": "python3"
  },
  "language_info": {
   "codemirror_mode": {
    "name": "ipython",
    "version": 3
   },
   "file_extension": ".py",
   "mimetype": "text/x-python",
   "name": "python",
   "nbconvert_exporter": "python",
   "pygments_lexer": "ipython3",
   "version": "3.12.2"
  }
 },
 "nbformat": 4,
 "nbformat_minor": 2
}
